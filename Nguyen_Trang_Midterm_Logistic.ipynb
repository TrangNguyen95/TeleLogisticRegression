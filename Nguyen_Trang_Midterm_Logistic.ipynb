{
 "cells": [
  {
   "cell_type": "markdown",
   "metadata": {},
   "source": [
    "# Telecom Logistic Regression Analysis"
   ]
  },
  {
   "cell_type": "markdown",
   "metadata": {},
   "source": [
    "Github Link: https://github.com/TrangNguyen95/TeleLogisticRegression\n",
    "\n",
    "Data: WA_Fn-UseC_-Telco-Customer-Churn.csv\n"
   ]
  },
  {
   "cell_type": "code",
   "execution_count": 1,
   "metadata": {},
   "outputs": [
    {
     "data": {
      "text/plain": [
       "'C:\\\\Users\\\\Trang\\\\Anaconda3\\\\BUAN6340\\\\Midterm'"
      ]
     },
     "execution_count": 1,
     "metadata": {},
     "output_type": "execute_result"
    }
   ],
   "source": [
    "import os\n",
    "os.getcwd()"
   ]
  },
  {
   "cell_type": "markdown",
   "metadata": {},
   "source": [
    "## Import Packages"
   ]
  },
  {
   "cell_type": "code",
   "execution_count": 2,
   "metadata": {
    "collapsed": true
   },
   "outputs": [],
   "source": [
    "import numpy as np\n",
    "import pandas as pd\n"
   ]
  },
  {
   "cell_type": "code",
   "execution_count": 3,
   "metadata": {
    "collapsed": true
   },
   "outputs": [],
   "source": [
    "import seaborn as sns\n",
    "import matplotlib.pyplot as plt\n",
    "%matplotlib inline"
   ]
  },
  {
   "cell_type": "code",
   "execution_count": 4,
   "metadata": {},
   "outputs": [
    {
     "name": "stdout",
     "output_type": "stream",
     "text": [
      "2.2.3\n"
     ]
    }
   ],
   "source": [
    "from plotly import __version__\n",
    "from plotly.offline import download_plotlyjs, init_notebook_mode, plot, iplot\n",
    "\n",
    "print(__version__)"
   ]
  },
  {
   "cell_type": "code",
   "execution_count": 5,
   "metadata": {},
   "outputs": [
    {
     "data": {
      "text/html": [
       "<script>requirejs.config({paths: { 'plotly': ['https://cdn.plot.ly/plotly-latest.min']},});if(!window.Plotly) {{require(['plotly'],function(plotly) {window.Plotly=plotly;});}}</script>"
      ],
      "text/vnd.plotly.v1+html": [
       "<script>requirejs.config({paths: { 'plotly': ['https://cdn.plot.ly/plotly-latest.min']},});if(!window.Plotly) {{require(['plotly'],function(plotly) {window.Plotly=plotly;});}}</script>"
      ]
     },
     "metadata": {},
     "output_type": "display_data"
    },
    {
     "name": "stderr",
     "output_type": "stream",
     "text": [
      "IOPub data rate exceeded.\n",
      "The notebook server will temporarily stop sending output\n",
      "to the client in order to avoid crashing it.\n",
      "To change this limit, set the config variable\n",
      "`--NotebookApp.iopub_data_rate_limit`.\n"
     ]
    }
   ],
   "source": [
    "import cufflinks as cf\n",
    "init_notebook_mode(connected=True)\n",
    "cf.go_offline()"
   ]
  },
  {
   "cell_type": "markdown",
   "metadata": {},
   "source": [
    "## Exploratory Data Analysis"
   ]
  },
  {
   "cell_type": "code",
   "execution_count": 6,
   "metadata": {
    "collapsed": true
   },
   "outputs": [],
   "source": [
    "Tele=pd.read_csv('WA_Fn-UseC_-Telco-Customer-Churn.csv')"
   ]
  },
  {
   "cell_type": "code",
   "execution_count": 7,
   "metadata": {},
   "outputs": [
    {
     "data": {
      "text/html": [
       "<div>\n",
       "<style>\n",
       "    .dataframe thead tr:only-child th {\n",
       "        text-align: right;\n",
       "    }\n",
       "\n",
       "    .dataframe thead th {\n",
       "        text-align: left;\n",
       "    }\n",
       "\n",
       "    .dataframe tbody tr th {\n",
       "        vertical-align: top;\n",
       "    }\n",
       "</style>\n",
       "<table border=\"1\" class=\"dataframe\">\n",
       "  <thead>\n",
       "    <tr style=\"text-align: right;\">\n",
       "      <th></th>\n",
       "      <th>customerID</th>\n",
       "      <th>gender</th>\n",
       "      <th>SeniorCitizen</th>\n",
       "      <th>Partner</th>\n",
       "      <th>Dependents</th>\n",
       "      <th>tenure</th>\n",
       "      <th>PhoneService</th>\n",
       "      <th>MultipleLines</th>\n",
       "      <th>InternetService</th>\n",
       "      <th>OnlineSecurity</th>\n",
       "      <th>...</th>\n",
       "      <th>DeviceProtection</th>\n",
       "      <th>TechSupport</th>\n",
       "      <th>StreamingTV</th>\n",
       "      <th>StreamingMovies</th>\n",
       "      <th>Contract</th>\n",
       "      <th>PaperlessBilling</th>\n",
       "      <th>PaymentMethod</th>\n",
       "      <th>MonthlyCharges</th>\n",
       "      <th>TotalCharges</th>\n",
       "      <th>Churn</th>\n",
       "    </tr>\n",
       "  </thead>\n",
       "  <tbody>\n",
       "    <tr>\n",
       "      <th>0</th>\n",
       "      <td>7590-VHVEG</td>\n",
       "      <td>Female</td>\n",
       "      <td>0</td>\n",
       "      <td>Yes</td>\n",
       "      <td>No</td>\n",
       "      <td>1</td>\n",
       "      <td>No</td>\n",
       "      <td>No phone service</td>\n",
       "      <td>DSL</td>\n",
       "      <td>No</td>\n",
       "      <td>...</td>\n",
       "      <td>No</td>\n",
       "      <td>No</td>\n",
       "      <td>No</td>\n",
       "      <td>No</td>\n",
       "      <td>Month-to-month</td>\n",
       "      <td>Yes</td>\n",
       "      <td>Electronic check</td>\n",
       "      <td>29.85</td>\n",
       "      <td>29.85</td>\n",
       "      <td>No</td>\n",
       "    </tr>\n",
       "    <tr>\n",
       "      <th>1</th>\n",
       "      <td>5575-GNVDE</td>\n",
       "      <td>Male</td>\n",
       "      <td>0</td>\n",
       "      <td>No</td>\n",
       "      <td>No</td>\n",
       "      <td>34</td>\n",
       "      <td>Yes</td>\n",
       "      <td>No</td>\n",
       "      <td>DSL</td>\n",
       "      <td>Yes</td>\n",
       "      <td>...</td>\n",
       "      <td>Yes</td>\n",
       "      <td>No</td>\n",
       "      <td>No</td>\n",
       "      <td>No</td>\n",
       "      <td>One year</td>\n",
       "      <td>No</td>\n",
       "      <td>Mailed check</td>\n",
       "      <td>56.95</td>\n",
       "      <td>1889.5</td>\n",
       "      <td>No</td>\n",
       "    </tr>\n",
       "    <tr>\n",
       "      <th>2</th>\n",
       "      <td>3668-QPYBK</td>\n",
       "      <td>Male</td>\n",
       "      <td>0</td>\n",
       "      <td>No</td>\n",
       "      <td>No</td>\n",
       "      <td>2</td>\n",
       "      <td>Yes</td>\n",
       "      <td>No</td>\n",
       "      <td>DSL</td>\n",
       "      <td>Yes</td>\n",
       "      <td>...</td>\n",
       "      <td>No</td>\n",
       "      <td>No</td>\n",
       "      <td>No</td>\n",
       "      <td>No</td>\n",
       "      <td>Month-to-month</td>\n",
       "      <td>Yes</td>\n",
       "      <td>Mailed check</td>\n",
       "      <td>53.85</td>\n",
       "      <td>108.15</td>\n",
       "      <td>Yes</td>\n",
       "    </tr>\n",
       "    <tr>\n",
       "      <th>3</th>\n",
       "      <td>7795-CFOCW</td>\n",
       "      <td>Male</td>\n",
       "      <td>0</td>\n",
       "      <td>No</td>\n",
       "      <td>No</td>\n",
       "      <td>45</td>\n",
       "      <td>No</td>\n",
       "      <td>No phone service</td>\n",
       "      <td>DSL</td>\n",
       "      <td>Yes</td>\n",
       "      <td>...</td>\n",
       "      <td>Yes</td>\n",
       "      <td>Yes</td>\n",
       "      <td>No</td>\n",
       "      <td>No</td>\n",
       "      <td>One year</td>\n",
       "      <td>No</td>\n",
       "      <td>Bank transfer (automatic)</td>\n",
       "      <td>42.30</td>\n",
       "      <td>1840.75</td>\n",
       "      <td>No</td>\n",
       "    </tr>\n",
       "    <tr>\n",
       "      <th>4</th>\n",
       "      <td>9237-HQITU</td>\n",
       "      <td>Female</td>\n",
       "      <td>0</td>\n",
       "      <td>No</td>\n",
       "      <td>No</td>\n",
       "      <td>2</td>\n",
       "      <td>Yes</td>\n",
       "      <td>No</td>\n",
       "      <td>Fiber optic</td>\n",
       "      <td>No</td>\n",
       "      <td>...</td>\n",
       "      <td>No</td>\n",
       "      <td>No</td>\n",
       "      <td>No</td>\n",
       "      <td>No</td>\n",
       "      <td>Month-to-month</td>\n",
       "      <td>Yes</td>\n",
       "      <td>Electronic check</td>\n",
       "      <td>70.70</td>\n",
       "      <td>151.65</td>\n",
       "      <td>Yes</td>\n",
       "    </tr>\n",
       "  </tbody>\n",
       "</table>\n",
       "<p>5 rows × 21 columns</p>\n",
       "</div>"
      ],
      "text/plain": [
       "   customerID  gender  SeniorCitizen Partner Dependents  tenure PhoneService  \\\n",
       "0  7590-VHVEG  Female              0     Yes         No       1           No   \n",
       "1  5575-GNVDE    Male              0      No         No      34          Yes   \n",
       "2  3668-QPYBK    Male              0      No         No       2          Yes   \n",
       "3  7795-CFOCW    Male              0      No         No      45           No   \n",
       "4  9237-HQITU  Female              0      No         No       2          Yes   \n",
       "\n",
       "      MultipleLines InternetService OnlineSecurity  ...  DeviceProtection  \\\n",
       "0  No phone service             DSL             No  ...                No   \n",
       "1                No             DSL            Yes  ...               Yes   \n",
       "2                No             DSL            Yes  ...                No   \n",
       "3  No phone service             DSL            Yes  ...               Yes   \n",
       "4                No     Fiber optic             No  ...                No   \n",
       "\n",
       "  TechSupport StreamingTV StreamingMovies        Contract PaperlessBilling  \\\n",
       "0          No          No              No  Month-to-month              Yes   \n",
       "1          No          No              No        One year               No   \n",
       "2          No          No              No  Month-to-month              Yes   \n",
       "3         Yes          No              No        One year               No   \n",
       "4          No          No              No  Month-to-month              Yes   \n",
       "\n",
       "               PaymentMethod MonthlyCharges  TotalCharges Churn  \n",
       "0           Electronic check          29.85         29.85    No  \n",
       "1               Mailed check          56.95        1889.5    No  \n",
       "2               Mailed check          53.85        108.15   Yes  \n",
       "3  Bank transfer (automatic)          42.30       1840.75    No  \n",
       "4           Electronic check          70.70        151.65   Yes  \n",
       "\n",
       "[5 rows x 21 columns]"
      ]
     },
     "execution_count": 7,
     "metadata": {},
     "output_type": "execute_result"
    }
   ],
   "source": [
    "Tele.head()"
   ]
  },
  {
   "cell_type": "code",
   "execution_count": 8,
   "metadata": {},
   "outputs": [
    {
     "data": {
      "text/plain": [
       "1142"
      ]
     },
     "execution_count": 8,
     "metadata": {},
     "output_type": "execute_result"
    }
   ],
   "source": [
    "Tele.SeniorCitizen.sum()"
   ]
  },
  {
   "cell_type": "code",
   "execution_count": 9,
   "metadata": {},
   "outputs": [
    {
     "name": "stdout",
     "output_type": "stream",
     "text": [
      "<class 'pandas.core.frame.DataFrame'>\n",
      "RangeIndex: 7043 entries, 0 to 7042\n",
      "Data columns (total 21 columns):\n",
      "customerID          7043 non-null object\n",
      "gender              7043 non-null object\n",
      "SeniorCitizen       7043 non-null int64\n",
      "Partner             7043 non-null object\n",
      "Dependents          7043 non-null object\n",
      "tenure              7043 non-null int64\n",
      "PhoneService        7043 non-null object\n",
      "MultipleLines       7043 non-null object\n",
      "InternetService     7043 non-null object\n",
      "OnlineSecurity      7043 non-null object\n",
      "OnlineBackup        7043 non-null object\n",
      "DeviceProtection    7043 non-null object\n",
      "TechSupport         7043 non-null object\n",
      "StreamingTV         7043 non-null object\n",
      "StreamingMovies     7043 non-null object\n",
      "Contract            7043 non-null object\n",
      "PaperlessBilling    7043 non-null object\n",
      "PaymentMethod       7043 non-null object\n",
      "MonthlyCharges      7043 non-null float64\n",
      "TotalCharges        7043 non-null object\n",
      "Churn               7043 non-null object\n",
      "dtypes: float64(1), int64(2), object(18)\n",
      "memory usage: 1.1+ MB\n"
     ]
    }
   ],
   "source": [
    "Tele.info()"
   ]
  },
  {
   "cell_type": "code",
   "execution_count": 10,
   "metadata": {
    "scrolled": false
   },
   "outputs": [
    {
     "data": {
      "text/plain": [
       "<matplotlib.axes._subplots.AxesSubplot at 0x28fb4759b00>"
      ]
     },
     "execution_count": 10,
     "metadata": {},
     "output_type": "execute_result"
    },
    {
     "data": {
      "image/png": "[encoded data removed]",
      "text/plain": [
       "<matplotlib.figure.Figure at 0x28fb13b79e8>"
      ]
     },
     "metadata": {},
     "output_type": "display_data"
    }
   ],
   "source": [
    "sns.set_style('whitegrid')\n",
    "sns.countplot(x='Churn',data=Tele,palette='RdBu_r')"
   ]
  },
  {
   "cell_type": "code",
   "execution_count": 11,
   "metadata": {},
   "outputs": [
    {
     "data": {
      "text/plain": [
       "Text(0,0.5,'Frequency of Churn')"
      ]
     },
     "execution_count": 11,
     "metadata": {},
     "output_type": "execute_result"
    },
    {
     "data": {
      "image/png": "[encoded data removed]",
      "text/plain": [
       "<matplotlib.figure.Figure at 0x28fb4759cc0>"
      ]
     },
     "metadata": {},
     "output_type": "display_data"
    }
   ],
   "source": [
    "pd.crosstab(Tele.InternetService,Tele.Churn).plot(kind='bar')\n",
    "plt.title('Internet Service vs Churn')\n",
    "plt.xlabel('InternetService')\n",
    "plt.ylabel('Frequency of Churn')"
   ]
  },
  {
   "cell_type": "markdown",
   "metadata": {},
   "source": [
    "## Converting Categorical Features \n"
   ]
  },
  {
   "cell_type": "code",
   "execution_count": 12,
   "metadata": {
    "collapsed": true
   },
   "outputs": [],
   "source": [
    "Gen_dum=pd.get_dummies(Tele['gender'],drop_first=True)\n"
   ]
  },
  {
   "cell_type": "code",
   "execution_count": 13,
   "metadata": {
    "collapsed": true
   },
   "outputs": [],
   "source": [
    "Part_dum=pd.get_dummies(Tele['Partner'],drop_first=True)\n",
    "Part_dum.columns=['Partner']"
   ]
  },
  {
   "cell_type": "code",
   "execution_count": 14,
   "metadata": {
    "collapsed": true
   },
   "outputs": [],
   "source": [
    "Dep_dum=pd.get_dummies(Tele['Dependents'],drop_first=True)\n",
    "Dep_dum.columns=['Dependent']"
   ]
  },
  {
   "cell_type": "code",
   "execution_count": 15,
   "metadata": {
    "collapsed": true
   },
   "outputs": [],
   "source": [
    "Phone_dum=pd.get_dummies(Tele['PhoneService'],drop_first=True)\n",
    "Phone_dum.columns=['PhoneService']"
   ]
  },
  {
   "cell_type": "code",
   "execution_count": 16,
   "metadata": {
    "collapsed": true
   },
   "outputs": [],
   "source": [
    "MPhone_dum=pd.get_dummies(Tele['MultipleLines'])\n",
    "MPhone_dum1=MPhone_dum.drop(['No','No phone service'],axis=1)\n",
    "MPhone_dum1.columns=['Multiple Phone Lines']"
   ]
  },
  {
   "cell_type": "code",
   "execution_count": 17,
   "metadata": {
    "collapsed": true
   },
   "outputs": [],
   "source": [
    "Int_dum=pd.get_dummies(Tele['InternetService'])\n",
    "Int_dum1=Int_dum.drop(['No'],axis=1)\n"
   ]
  },
  {
   "cell_type": "code",
   "execution_count": 18,
   "metadata": {
    "collapsed": true
   },
   "outputs": [],
   "source": [
    "OnSec_dum=pd.get_dummies(Tele['OnlineSecurity'])\n",
    "OnSec_dum1=MPhone_dum.drop(['No','No phone service'],axis=1)\n",
    "OnSec_dum1.columns=['Online Security']"
   ]
  },
  {
   "cell_type": "code",
   "execution_count": 19,
   "metadata": {
    "collapsed": true
   },
   "outputs": [],
   "source": [
    "OnBac_dum=pd.get_dummies(Tele['OnlineBackup'])\n",
    "OnBac_dum1=MPhone_dum.drop(['No','No phone service'],axis=1)\n",
    "OnBac_dum1.columns=['Online Backup']"
   ]
  },
  {
   "cell_type": "code",
   "execution_count": 20,
   "metadata": {
    "collapsed": true
   },
   "outputs": [],
   "source": [
    "DevProt_dum=pd.get_dummies(Tele['DeviceProtection'])\n",
    "DevProt_dum1=MPhone_dum.drop(['No','No phone service'],axis=1)\n",
    "DevProt_dum1.columns=['Device Protection']"
   ]
  },
  {
   "cell_type": "code",
   "execution_count": 21,
   "metadata": {
    "collapsed": true
   },
   "outputs": [],
   "source": [
    "TecSup_dum=pd.get_dummies(Tele['TechSupport'])\n",
    "TecSup_dum1=MPhone_dum.drop(['No','No phone service'],axis=1)\n",
    "TecSup_dum1.columns=['Tech Support']"
   ]
  },
  {
   "cell_type": "code",
   "execution_count": 22,
   "metadata": {
    "collapsed": true
   },
   "outputs": [],
   "source": [
    "TVStrm_dum=pd.get_dummies(Tele['StreamingTV'])\n",
    "TVStrm_dum1=MPhone_dum.drop(['No','No phone service'],axis=1)\n",
    "TVStrm_dum1.columns=['Streaming TV']"
   ]
  },
  {
   "cell_type": "code",
   "execution_count": 23,
   "metadata": {
    "collapsed": true
   },
   "outputs": [],
   "source": [
    "MVStrm_dum=pd.get_dummies(Tele['StreamingMovies'])\n",
    "MVStrm_dum1=MPhone_dum.drop(['No','No phone service'],axis=1)\n",
    "MVStrm_dum1.columns=['Streaming Movies']\n"
   ]
  },
  {
   "cell_type": "code",
   "execution_count": 24,
   "metadata": {
    "collapsed": true
   },
   "outputs": [],
   "source": [
    "Contract_dum=pd.get_dummies(Tele['Contract'])\n",
    "Contract_dum.columns=['Month-to-month Contract','One Year Contract','Two Year Contract']\n"
   ]
  },
  {
   "cell_type": "code",
   "execution_count": 25,
   "metadata": {
    "collapsed": true
   },
   "outputs": [],
   "source": [
    "EBill_dum=pd.get_dummies(Tele['PaperlessBilling'],drop_first=True)\n",
    "EBill_dum.columns=['Paperless Billing']"
   ]
  },
  {
   "cell_type": "code",
   "execution_count": 26,
   "metadata": {
    "collapsed": true
   },
   "outputs": [],
   "source": [
    "Churn_dum=pd.get_dummies(Tele['Churn'],drop_first=True)\n",
    "Churn_dum.columns=['Churn']"
   ]
  },
  {
   "cell_type": "code",
   "execution_count": 27,
   "metadata": {
    "collapsed": true
   },
   "outputs": [],
   "source": [
    "Charges=pd.DataFrame({'Tenure':Tele['tenure'],'SeniorCitizen':Tele['SeniorCitizen'],'Monthly Charges':Tele['MonthlyCharges'],'Total Charges':Tele['TotalCharges']})"
   ]
  },
  {
   "cell_type": "markdown",
   "metadata": {},
   "source": [
    "Converting object variables to integer."
   ]
  },
  {
   "cell_type": "code",
   "execution_count": 28,
   "metadata": {
    "collapsed": true
   },
   "outputs": [],
   "source": [
    "from sklearn import preprocessing\n",
    "for column in Charges.columns:\n",
    "    if Charges[column].dtype == type(object):\n",
    "        le = preprocessing.LabelEncoder()\n",
    "        Charges[column] = le.fit_transform(Charges[column])"
   ]
  },
  {
   "cell_type": "code",
   "execution_count": 29,
   "metadata": {
    "scrolled": true
   },
   "outputs": [
    {
     "name": "stdout",
     "output_type": "stream",
     "text": [
      "<class 'pandas.core.frame.DataFrame'>\n",
      "RangeIndex: 7043 entries, 0 to 7042\n",
      "Data columns (total 4 columns):\n",
      "Monthly Charges    7043 non-null float64\n",
      "SeniorCitizen      7043 non-null int64\n",
      "Tenure             7043 non-null int64\n",
      "Total Charges      7043 non-null int64\n",
      "dtypes: float64(1), int64(3)\n",
      "memory usage: 220.2 KB\n"
     ]
    }
   ],
   "source": [
    "Charges.info()"
   ]
  },
  {
   "cell_type": "code",
   "execution_count": 30,
   "metadata": {},
   "outputs": [
    {
     "name": "stdout",
     "output_type": "stream",
     "text": [
      "<class 'pandas.core.frame.DataFrame'>\n",
      "RangeIndex: 7043 entries, 0 to 7042\n",
      "Data columns (total 22 columns):\n",
      "Churn                      7043 non-null uint8\n",
      "Monthly Charges            7043 non-null float64\n",
      "SeniorCitizen              7043 non-null int64\n",
      "Tenure                     7043 non-null int64\n",
      "Total Charges              7043 non-null int64\n",
      "Male                       7043 non-null uint8\n",
      "Partner                    7043 non-null uint8\n",
      "Dependent                  7043 non-null uint8\n",
      "PhoneService               7043 non-null uint8\n",
      "Multiple Phone Lines       7043 non-null uint8\n",
      "DSL                        7043 non-null uint8\n",
      "Fiber optic                7043 non-null uint8\n",
      "Online Security            7043 non-null uint8\n",
      "Online Backup              7043 non-null uint8\n",
      "Device Protection          7043 non-null uint8\n",
      "Tech Support               7043 non-null uint8\n",
      "Streaming TV               7043 non-null uint8\n",
      "Streaming Movies           7043 non-null uint8\n",
      "Month-to-month Contract    7043 non-null uint8\n",
      "One Year Contract          7043 non-null uint8\n",
      "Two Year Contract          7043 non-null uint8\n",
      "Paperless Billing          7043 non-null uint8\n",
      "dtypes: float64(1), int64(3), uint8(18)\n",
      "memory usage: 344.0 KB\n"
     ]
    }
   ],
   "source": [
    "Tele_df1=pd.concat([Churn_dum,Charges,Gen_dum,Part_dum,Dep_dum,Phone_dum,MPhone_dum1,Int_dum1,OnSec_dum1,OnBac_dum1,DevProt_dum1,TecSup_dum1,TVStrm_dum1,MVStrm_dum1,Contract_dum,EBill_dum],axis=1)\n",
    "Tele_df1.info()"
   ]
  },
  {
   "cell_type": "markdown",
   "metadata": {},
   "source": [
    "Let's see how the independent variable data run accross the two Churn classes. "
   ]
  },
  {
   "cell_type": "code",
   "execution_count": 31,
   "metadata": {
    "scrolled": true
   },
   "outputs": [
    {
     "data": {
      "text/html": [
       "<div>\n",
       "<style>\n",
       "    .dataframe thead tr:only-child th {\n",
       "        text-align: right;\n",
       "    }\n",
       "\n",
       "    .dataframe thead th {\n",
       "        text-align: left;\n",
       "    }\n",
       "\n",
       "    .dataframe tbody tr th {\n",
       "        vertical-align: top;\n",
       "    }\n",
       "</style>\n",
       "<table border=\"1\" class=\"dataframe\">\n",
       "  <thead>\n",
       "    <tr style=\"text-align: right;\">\n",
       "      <th></th>\n",
       "      <th>Monthly Charges</th>\n",
       "      <th>SeniorCitizen</th>\n",
       "      <th>Tenure</th>\n",
       "      <th>Total Charges</th>\n",
       "      <th>Male</th>\n",
       "      <th>Partner</th>\n",
       "      <th>Dependent</th>\n",
       "      <th>PhoneService</th>\n",
       "      <th>Multiple Phone Lines</th>\n",
       "      <th>DSL</th>\n",
       "      <th>...</th>\n",
       "      <th>Online Security</th>\n",
       "      <th>Online Backup</th>\n",
       "      <th>Device Protection</th>\n",
       "      <th>Tech Support</th>\n",
       "      <th>Streaming TV</th>\n",
       "      <th>Streaming Movies</th>\n",
       "      <th>Month-to-month Contract</th>\n",
       "      <th>One Year Contract</th>\n",
       "      <th>Two Year Contract</th>\n",
       "      <th>Paperless Billing</th>\n",
       "    </tr>\n",
       "    <tr>\n",
       "      <th>Churn</th>\n",
       "      <th></th>\n",
       "      <th></th>\n",
       "      <th></th>\n",
       "      <th></th>\n",
       "      <th></th>\n",
       "      <th></th>\n",
       "      <th></th>\n",
       "      <th></th>\n",
       "      <th></th>\n",
       "      <th></th>\n",
       "      <th></th>\n",
       "      <th></th>\n",
       "      <th></th>\n",
       "      <th></th>\n",
       "      <th></th>\n",
       "      <th></th>\n",
       "      <th></th>\n",
       "      <th></th>\n",
       "      <th></th>\n",
       "      <th></th>\n",
       "      <th></th>\n",
       "    </tr>\n",
       "  </thead>\n",
       "  <tbody>\n",
       "    <tr>\n",
       "      <th>0</th>\n",
       "      <td>61.265124</td>\n",
       "      <td>0.128721</td>\n",
       "      <td>37.569965</td>\n",
       "      <td>3241.35949</td>\n",
       "      <td>0.507344</td>\n",
       "      <td>0.528218</td>\n",
       "      <td>0.344801</td>\n",
       "      <td>0.901044</td>\n",
       "      <td>0.409934</td>\n",
       "      <td>0.379204</td>\n",
       "      <td>...</td>\n",
       "      <td>0.409934</td>\n",
       "      <td>0.409934</td>\n",
       "      <td>0.409934</td>\n",
       "      <td>0.409934</td>\n",
       "      <td>0.409934</td>\n",
       "      <td>0.409934</td>\n",
       "      <td>0.429068</td>\n",
       "      <td>0.252609</td>\n",
       "      <td>0.318322</td>\n",
       "      <td>0.535562</td>\n",
       "    </tr>\n",
       "    <tr>\n",
       "      <th>1</th>\n",
       "      <td>74.441332</td>\n",
       "      <td>0.254682</td>\n",
       "      <td>17.979133</td>\n",
       "      <td>3303.29053</td>\n",
       "      <td>0.497592</td>\n",
       "      <td>0.357945</td>\n",
       "      <td>0.174425</td>\n",
       "      <td>0.909042</td>\n",
       "      <td>0.454789</td>\n",
       "      <td>0.245586</td>\n",
       "      <td>...</td>\n",
       "      <td>0.454789</td>\n",
       "      <td>0.454789</td>\n",
       "      <td>0.454789</td>\n",
       "      <td>0.454789</td>\n",
       "      <td>0.454789</td>\n",
       "      <td>0.454789</td>\n",
       "      <td>0.885500</td>\n",
       "      <td>0.088818</td>\n",
       "      <td>0.025682</td>\n",
       "      <td>0.749064</td>\n",
       "    </tr>\n",
       "  </tbody>\n",
       "</table>\n",
       "<p>2 rows × 21 columns</p>\n",
       "</div>"
      ],
      "text/plain": [
       "       Monthly Charges  SeniorCitizen     Tenure  Total Charges      Male  \\\n",
       "Churn                                                                       \n",
       "0            61.265124       0.128721  37.569965     3241.35949  0.507344   \n",
       "1            74.441332       0.254682  17.979133     3303.29053  0.497592   \n",
       "\n",
       "        Partner  Dependent  PhoneService  Multiple Phone Lines       DSL  \\\n",
       "Churn                                                                      \n",
       "0      0.528218   0.344801      0.901044              0.409934  0.379204   \n",
       "1      0.357945   0.174425      0.909042              0.454789  0.245586   \n",
       "\n",
       "             ...          Online Security  Online Backup  Device Protection  \\\n",
       "Churn        ...                                                              \n",
       "0            ...                 0.409934       0.409934           0.409934   \n",
       "1            ...                 0.454789       0.454789           0.454789   \n",
       "\n",
       "       Tech Support  Streaming TV  Streaming Movies  Month-to-month Contract  \\\n",
       "Churn                                                                          \n",
       "0          0.409934      0.409934          0.409934                 0.429068   \n",
       "1          0.454789      0.454789          0.454789                 0.885500   \n",
       "\n",
       "       One Year Contract  Two Year Contract  Paperless Billing  \n",
       "Churn                                                           \n",
       "0               0.252609           0.318322           0.535562  \n",
       "1               0.088818           0.025682           0.749064  \n",
       "\n",
       "[2 rows x 21 columns]"
      ]
     },
     "execution_count": 31,
     "metadata": {},
     "output_type": "execute_result"
    }
   ],
   "source": [
    "Tele_df1.groupby('Churn').mean()"
   ]
  },
  {
   "cell_type": "markdown",
   "metadata": {},
   "source": [
    "Based on the table above, in average, people who pay less, have high tenure, and have at least 1 year contract have lower churn rates."
   ]
  },
  {
   "cell_type": "code",
   "execution_count": 32,
   "metadata": {},
   "outputs": [
    {
     "data": {
      "text/plain": [
       "Text(0.5,1,'Heatmap Shows Correlations among Attributes')"
      ]
     },
     "execution_count": 32,
     "metadata": {},
     "output_type": "execute_result"
    },
    {
     "data": {
      "image/png": "[encoded data removed]",
      "text/plain": [
       "<matplotlib.figure.Figure at 0x28fb50c96a0>"
      ]
     },
     "metadata": {},
     "output_type": "display_data"
    }
   ],
   "source": [
    "sns.heatmap(Tele_df1.corr())\n",
    "plt.title('Heatmap Shows Correlations among Attributes')\n"
   ]
  },
  {
   "cell_type": "markdown",
   "metadata": {},
   "source": [
    "As expected, most correlations between Churn and other variables are negative, which indicate that the more involved people are with the company, the less they are likely to leave. We will run logistic regression analysis to find out if this theory holds.  "
   ]
  },
  {
   "cell_type": "markdown",
   "metadata": {},
   "source": [
    "## Logistic Regression Model"
   ]
  },
  {
   "cell_type": "markdown",
   "metadata": {},
   "source": [
    "#### Train Test Split"
   ]
  },
  {
   "cell_type": "code",
   "execution_count": 33,
   "metadata": {
    "collapsed": true
   },
   "outputs": [],
   "source": [
    "from sklearn.model_selection import train_test_split"
   ]
  },
  {
   "cell_type": "code",
   "execution_count": 34,
   "metadata": {
    "collapsed": true
   },
   "outputs": [],
   "source": [
    "from sklearn.linear_model import LogisticRegression\n",
    "logmodel = LogisticRegression()"
   ]
  },
  {
   "cell_type": "code",
   "execution_count": 35,
   "metadata": {
    "collapsed": true
   },
   "outputs": [],
   "source": [
    "from sklearn.metrics import classification_report"
   ]
  },
  {
   "cell_type": "markdown",
   "metadata": {},
   "source": [
    "#### Building the Model"
   ]
  },
  {
   "cell_type": "markdown",
   "metadata": {},
   "source": [
    "##### Model1"
   ]
  },
  {
   "cell_type": "code",
   "execution_count": 36,
   "metadata": {
    "collapsed": true
   },
   "outputs": [],
   "source": [
    "X_train1, X_test1, y_train1, y_test1 = train_test_split(Tele_df1.drop('Churn',axis=1),Tele_df1['Churn'], test_size=0.30,random_state=101)"
   ]
  },
  {
   "cell_type": "code",
   "execution_count": 37,
   "metadata": {},
   "outputs": [
    {
     "data": {
      "text/plain": [
       "LogisticRegression(C=1.0, class_weight=None, dual=False, fit_intercept=True,\n",
       "          intercept_scaling=1, max_iter=100, multi_class='ovr', n_jobs=1,\n",
       "          penalty='l2', random_state=None, solver='liblinear', tol=0.0001,\n",
       "          verbose=0, warm_start=False)"
      ]
     },
     "execution_count": 37,
     "metadata": {},
     "output_type": "execute_result"
    }
   ],
   "source": [
    "logmodel.fit(X_train1,y_train1)"
   ]
  },
  {
   "cell_type": "code",
   "execution_count": 38,
   "metadata": {},
   "outputs": [
    {
     "name": "stdout",
     "output_type": "stream",
     "text": [
      "Optimization terminated successfully.\n",
      "         Current function value: inf\n",
      "         Iterations 8\n",
      "                           Logit Regression Results                           \n",
      "==============================================================================\n",
      "Dep. Variable:                  Churn   No. Observations:                 4930\n",
      "Model:                          Logit   Df Residuals:                     4915\n",
      "Method:                           MLE   Df Model:                           14\n",
      "Date:                Fri, 09 Mar 2018   Pseudo R-squ.:                    -inf\n",
      "Time:                        23:01:00   Log-Likelihood:                   -inf\n",
      "converged:                       True   LL-Null:                   -9.4980e+05\n",
      "                                        LLR p-value:                     1.000\n",
      "===========================================================================================\n",
      "                              coef    std err          z      P>|z|      [0.025      0.975]\n",
      "-------------------------------------------------------------------------------------------\n",
      "Monthly Charges             0.0124      0.004      2.829      0.005       0.004       0.021\n",
      "SeniorCitizen               0.2788      0.100      2.796      0.005       0.083       0.474\n",
      "Tenure                     -0.0391      0.003    -14.376      0.000      -0.044      -0.034\n",
      "Total Charges            6.231e-05   2.11e-05      2.959      0.003     2.1e-05       0.000\n",
      "Male                        0.0329      0.077      0.429      0.668      -0.118       0.183\n",
      "Partner                    -0.0029      0.092     -0.032      0.974      -0.183       0.177\n",
      "Dependent                  -0.1668      0.107     -1.566      0.117      -0.376       0.042\n",
      "PhoneService               -0.9912      0.171     -5.786      0.000      -1.327      -0.655\n",
      "Multiple Phone Lines        0.0307   4.61e+06   6.66e-09      1.000   -9.03e+06    9.03e+06\n",
      "DSL                         0.2487      0.219      1.133      0.257      -0.181       0.679\n",
      "Fiber optic                 1.1045      0.312      3.546      0.000       0.494       1.715\n",
      "Online Security             0.0307   4.61e+06   6.66e-09      1.000   -9.03e+06    9.03e+06\n",
      "Online Backup               0.0307   4.61e+06   6.66e-09      1.000   -9.03e+06    9.03e+06\n",
      "Device Protection           0.0307   4.61e+06   6.66e-09      1.000   -9.03e+06    9.03e+06\n",
      "Tech Support                0.0307   4.61e+06   6.66e-09      1.000   -9.03e+06    9.03e+06\n",
      "Streaming TV                0.0307   4.61e+06   6.66e-09      1.000   -9.03e+06    9.03e+06\n",
      "Streaming Movies            0.0307   4.61e+06   6.66e-09      1.000   -9.03e+06    9.03e+06\n",
      "Month-to-month Contract    -0.8733      0.211     -4.137      0.000      -1.287      -0.460\n",
      "One Year Contract          -1.6009      0.240     -6.666      0.000      -2.072      -1.130\n",
      "Two Year Contract          -2.5613      0.295     -8.691      0.000      -3.139      -1.984\n",
      "Paperless Billing           0.3995      0.087      4.570      0.000       0.228       0.571\n",
      "===========================================================================================\n"
     ]
    },
    {
     "name": "stderr",
     "output_type": "stream",
     "text": [
      "C:\\Users\\Trang\\Anaconda3\\lib\\site-packages\\statsmodels\\compat\\pandas.py:56: FutureWarning:\n",
      "\n",
      "The pandas.core.datetools module is deprecated and will be removed in a future version. Please use the pandas.tseries module instead.\n",
      "\n",
      "C:\\Users\\Trang\\Anaconda3\\lib\\site-packages\\statsmodels\\discrete\\discrete_model.py:1214: RuntimeWarning:\n",
      "\n",
      "overflow encountered in exp\n",
      "\n",
      "C:\\Users\\Trang\\Anaconda3\\lib\\site-packages\\statsmodels\\discrete\\discrete_model.py:1264: RuntimeWarning:\n",
      "\n",
      "divide by zero encountered in log\n",
      "\n"
     ]
    }
   ],
   "source": [
    "import statsmodels.api as sm\n",
    "logit_model=sm.Logit(y_train1,X_train1)\n",
    "fitted1=logit_model.fit()\n",
    "print(fitted1.summary())"
   ]
  },
  {
   "cell_type": "code",
   "execution_count": 39,
   "metadata": {},
   "outputs": [
    {
     "data": {
      "text/plain": [
       "LogisticRegression(C=1.0, class_weight=None, dual=False, fit_intercept=True,\n",
       "          intercept_scaling=1, max_iter=100, multi_class='ovr', n_jobs=1,\n",
       "          penalty='l2', random_state=None, solver='liblinear', tol=0.0001,\n",
       "          verbose=0, warm_start=False)"
      ]
     },
     "execution_count": 39,
     "metadata": {},
     "output_type": "execute_result"
    }
   ],
   "source": [
    "logmodel.fit(X_test1,y_test1)"
   ]
  },
  {
   "cell_type": "code",
   "execution_count": 40,
   "metadata": {
    "collapsed": true
   },
   "outputs": [],
   "source": [
    "predictions1 = logmodel.predict(X_test1)"
   ]
  },
  {
   "cell_type": "markdown",
   "metadata": {},
   "source": [
    "##### Model Evaluation"
   ]
  },
  {
   "cell_type": "code",
   "execution_count": 41,
   "metadata": {
    "scrolled": true
   },
   "outputs": [
    {
     "name": "stdout",
     "output_type": "stream",
     "text": [
      "             precision    recall  f1-score   support\n",
      "\n",
      "          0       0.84      0.90      0.87      1546\n",
      "          1       0.67      0.52      0.58       567\n",
      "\n",
      "avg / total       0.79      0.80      0.79      2113\n",
      "\n"
     ]
    }
   ],
   "source": [
    "print(classification_report(y_test1,predictions1))"
   ]
  },
  {
   "cell_type": "code",
   "execution_count": 42,
   "metadata": {
    "collapsed": true
   },
   "outputs": [],
   "source": [
    "from sklearn import metrics"
   ]
  },
  {
   "cell_type": "code",
   "execution_count": 43,
   "metadata": {},
   "outputs": [
    {
     "name": "stdout",
     "output_type": "stream",
     "text": [
      "[[1397  149]\n",
      " [ 271  296]]\n"
     ]
    }
   ],
   "source": [
    "from sklearn.metrics import confusion_matrix, roc_curve, roc_auc_score\n",
    "y_pred_class1 = logmodel.predict(X_test1)\n",
    "confusion1 = metrics.confusion_matrix(y_test1, y_pred_class1)\n",
    "print(confusion1)"
   ]
  },
  {
   "cell_type": "markdown",
   "metadata": {},
   "source": [
    "Intepreting the Evaluation:\n",
    "\n",
    "**Precision**: When a we predict that a customer will churn, the prediction is correct about 79% of the time.\n",
    "\n",
    "**Recall**: When a group of customer turn out to churn, we can predict 80% of that group.\n"
   ]
  },
  {
   "cell_type": "markdown",
   "metadata": {},
   "source": [
    "**True Positives (TP):** We correctly predict that customer will churn: 296  \n",
    "\n",
    "**True Negative (TN):** We correctly predict that customer won't churn: 1397\n",
    "\n",
    "**False Positives (FP):** We falsely predict that customer will churn: 149  \n",
    "\n",
    "**False Negative (FN):** We falsely predict that customer won't churn: 271\n"
   ]
  },
  {
   "cell_type": "code",
   "execution_count": 44,
   "metadata": {},
   "outputs": [
    {
     "data": {
      "image/png": "[encoded data removed]",
      "text/plain": [
       "<matplotlib.figure.Figure at 0x28fb518fa90>"
      ]
     },
     "metadata": {},
     "output_type": "display_data"
    }
   ],
   "source": [
    "fpr, tpr,_=roc_curve(logmodel.predict(X_test1),y_test1,drop_intermediate=False)\n",
    "plt.figure()\n",
    "plt.plot(fpr, tpr, color='red', lw=2, label='ROC curve')\n",
    "plt.plot([0, 1], [0, 1], color='blue', lw=2, linestyle='--')\n",
    "plt.xlabel('FPR')\n",
    "plt.ylabel('TPR')\n",
    "plt.title('ROC curve')\n",
    "plt.show()"
   ]
  },
  {
   "cell_type": "code",
   "execution_count": 45,
   "metadata": {},
   "outputs": [
    {
     "data": {
      "text/plain": [
       "0.7513492576725137"
      ]
     },
     "execution_count": 45,
     "metadata": {},
     "output_type": "execute_result"
    }
   ],
   "source": [
    "roc_auc_score(logmodel.predict(X_test1),y_test1)"
   ]
  },
  {
   "cell_type": "markdown",
   "metadata": {},
   "source": [
    "We will adjust the independent variables to see if we can improve the model's scores."
   ]
  },
  {
   "cell_type": "markdown",
   "metadata": {},
   "source": [
    "##### Model2"
   ]
  },
  {
   "cell_type": "markdown",
   "metadata": {},
   "source": [
    "Since not all independent variables are significant with alpha of 0.1, let's try removing these attributes and run the model again."
   ]
  },
  {
   "cell_type": "code",
   "execution_count": 46,
   "metadata": {
    "collapsed": true
   },
   "outputs": [],
   "source": [
    "alpha = 0.1\n",
    "X_stat2 = pd.DataFrame(data = [x for x in fitted1.summary().tables[1].data[1:] if float(x[4]) > alpha], columns = fitted1.summary().tables[1].data[0])"
   ]
  },
  {
   "cell_type": "code",
   "execution_count": 47,
   "metadata": {
    "collapsed": true
   },
   "outputs": [],
   "source": [
    "X_stat2.columns=['Variables','coef','std err','t','P>|t|','[0.025','0.975]']"
   ]
  },
  {
   "cell_type": "code",
   "execution_count": 48,
   "metadata": {},
   "outputs": [
    {
     "data": {
      "text/html": [
       "<div>\n",
       "<style>\n",
       "    .dataframe thead tr:only-child th {\n",
       "        text-align: right;\n",
       "    }\n",
       "\n",
       "    .dataframe thead th {\n",
       "        text-align: left;\n",
       "    }\n",
       "\n",
       "    .dataframe tbody tr th {\n",
       "        vertical-align: top;\n",
       "    }\n",
       "</style>\n",
       "<table border=\"1\" class=\"dataframe\">\n",
       "  <thead>\n",
       "    <tr style=\"text-align: right;\">\n",
       "      <th></th>\n",
       "      <th>Variables</th>\n",
       "      <th>coef</th>\n",
       "      <th>std err</th>\n",
       "      <th>t</th>\n",
       "      <th>P&gt;|t|</th>\n",
       "      <th>[0.025</th>\n",
       "      <th>0.975]</th>\n",
       "    </tr>\n",
       "  </thead>\n",
       "  <tbody>\n",
       "    <tr>\n",
       "      <th>0</th>\n",
       "      <td>Male</td>\n",
       "      <td>0.0329</td>\n",
       "      <td>0.077</td>\n",
       "      <td>0.429</td>\n",
       "      <td>0.668</td>\n",
       "      <td>-0.118</td>\n",
       "      <td>0.183</td>\n",
       "    </tr>\n",
       "    <tr>\n",
       "      <th>1</th>\n",
       "      <td>Partner</td>\n",
       "      <td>-0.0029</td>\n",
       "      <td>0.092</td>\n",
       "      <td>-0.032</td>\n",
       "      <td>0.974</td>\n",
       "      <td>-0.183</td>\n",
       "      <td>0.177</td>\n",
       "    </tr>\n",
       "    <tr>\n",
       "      <th>2</th>\n",
       "      <td>Dependent</td>\n",
       "      <td>-0.1668</td>\n",
       "      <td>0.107</td>\n",
       "      <td>-1.566</td>\n",
       "      <td>0.117</td>\n",
       "      <td>-0.376</td>\n",
       "      <td>0.042</td>\n",
       "    </tr>\n",
       "    <tr>\n",
       "      <th>3</th>\n",
       "      <td>Multiple Phone Lines</td>\n",
       "      <td>0.0307</td>\n",
       "      <td>4.61e+06</td>\n",
       "      <td>6.66e-09</td>\n",
       "      <td>1.000</td>\n",
       "      <td>-9.03e+06</td>\n",
       "      <td>9.03e+06</td>\n",
       "    </tr>\n",
       "    <tr>\n",
       "      <th>4</th>\n",
       "      <td>DSL</td>\n",
       "      <td>0.2487</td>\n",
       "      <td>0.219</td>\n",
       "      <td>1.133</td>\n",
       "      <td>0.257</td>\n",
       "      <td>-0.181</td>\n",
       "      <td>0.679</td>\n",
       "    </tr>\n",
       "    <tr>\n",
       "      <th>5</th>\n",
       "      <td>Online Security</td>\n",
       "      <td>0.0307</td>\n",
       "      <td>4.61e+06</td>\n",
       "      <td>6.66e-09</td>\n",
       "      <td>1.000</td>\n",
       "      <td>-9.03e+06</td>\n",
       "      <td>9.03e+06</td>\n",
       "    </tr>\n",
       "    <tr>\n",
       "      <th>6</th>\n",
       "      <td>Online Backup</td>\n",
       "      <td>0.0307</td>\n",
       "      <td>4.61e+06</td>\n",
       "      <td>6.66e-09</td>\n",
       "      <td>1.000</td>\n",
       "      <td>-9.03e+06</td>\n",
       "      <td>9.03e+06</td>\n",
       "    </tr>\n",
       "    <tr>\n",
       "      <th>7</th>\n",
       "      <td>Device Protection</td>\n",
       "      <td>0.0307</td>\n",
       "      <td>4.61e+06</td>\n",
       "      <td>6.66e-09</td>\n",
       "      <td>1.000</td>\n",
       "      <td>-9.03e+06</td>\n",
       "      <td>9.03e+06</td>\n",
       "    </tr>\n",
       "    <tr>\n",
       "      <th>8</th>\n",
       "      <td>Tech Support</td>\n",
       "      <td>0.0307</td>\n",
       "      <td>4.61e+06</td>\n",
       "      <td>6.66e-09</td>\n",
       "      <td>1.000</td>\n",
       "      <td>-9.03e+06</td>\n",
       "      <td>9.03e+06</td>\n",
       "    </tr>\n",
       "    <tr>\n",
       "      <th>9</th>\n",
       "      <td>Streaming TV</td>\n",
       "      <td>0.0307</td>\n",
       "      <td>4.61e+06</td>\n",
       "      <td>6.66e-09</td>\n",
       "      <td>1.000</td>\n",
       "      <td>-9.03e+06</td>\n",
       "      <td>9.03e+06</td>\n",
       "    </tr>\n",
       "    <tr>\n",
       "      <th>10</th>\n",
       "      <td>Streaming Movies</td>\n",
       "      <td>0.0307</td>\n",
       "      <td>4.61e+06</td>\n",
       "      <td>6.66e-09</td>\n",
       "      <td>1.000</td>\n",
       "      <td>-9.03e+06</td>\n",
       "      <td>9.03e+06</td>\n",
       "    </tr>\n",
       "  </tbody>\n",
       "</table>\n",
       "</div>"
      ],
      "text/plain": [
       "               Variables        coef    std err          t   P>|t|     [0.025  \\\n",
       "0                   Male      0.0329      0.077      0.429   0.668     -0.118   \n",
       "1                Partner     -0.0029      0.092     -0.032   0.974     -0.183   \n",
       "2              Dependent     -0.1668      0.107     -1.566   0.117     -0.376   \n",
       "3   Multiple Phone Lines      0.0307   4.61e+06   6.66e-09   1.000  -9.03e+06   \n",
       "4                    DSL      0.2487      0.219      1.133   0.257     -0.181   \n",
       "5        Online Security      0.0307   4.61e+06   6.66e-09   1.000  -9.03e+06   \n",
       "6          Online Backup      0.0307   4.61e+06   6.66e-09   1.000  -9.03e+06   \n",
       "7      Device Protection      0.0307   4.61e+06   6.66e-09   1.000  -9.03e+06   \n",
       "8           Tech Support      0.0307   4.61e+06   6.66e-09   1.000  -9.03e+06   \n",
       "9           Streaming TV      0.0307   4.61e+06   6.66e-09   1.000  -9.03e+06   \n",
       "10      Streaming Movies      0.0307   4.61e+06   6.66e-09   1.000  -9.03e+06   \n",
       "\n",
       "       0.975]  \n",
       "0       0.183  \n",
       "1       0.177  \n",
       "2       0.042  \n",
       "3    9.03e+06  \n",
       "4       0.679  \n",
       "5    9.03e+06  \n",
       "6    9.03e+06  \n",
       "7    9.03e+06  \n",
       "8    9.03e+06  \n",
       "9    9.03e+06  \n",
       "10   9.03e+06  "
      ]
     },
     "execution_count": 48,
     "metadata": {},
     "output_type": "execute_result"
    }
   ],
   "source": [
    "X_stat2"
   ]
  },
  {
   "cell_type": "code",
   "execution_count": 49,
   "metadata": {
    "collapsed": true
   },
   "outputs": [],
   "source": [
    "Tele_df2=Tele_df1.drop(X_stat2['Variables'],axis=1)"
   ]
  },
  {
   "cell_type": "code",
   "execution_count": 50,
   "metadata": {
    "collapsed": true
   },
   "outputs": [],
   "source": [
    "X_train2, X_test2, y_train2, y_test2 = train_test_split(Tele_df2.drop('Churn',axis=1), \n",
    "                                                    Tele_df2['Churn'], test_size=0.30, \n",
    "                                                    random_state=101)"
   ]
  },
  {
   "cell_type": "code",
   "execution_count": 51,
   "metadata": {},
   "outputs": [
    {
     "data": {
      "text/plain": [
       "LogisticRegression(C=1.0, class_weight=None, dual=False, fit_intercept=True,\n",
       "          intercept_scaling=1, max_iter=100, multi_class='ovr', n_jobs=1,\n",
       "          penalty='l2', random_state=None, solver='liblinear', tol=0.0001,\n",
       "          verbose=0, warm_start=False)"
      ]
     },
     "execution_count": 51,
     "metadata": {},
     "output_type": "execute_result"
    }
   ],
   "source": [
    "logmodel.fit(X_train2,y_train2)"
   ]
  },
  {
   "cell_type": "code",
   "execution_count": 52,
   "metadata": {},
   "outputs": [
    {
     "name": "stdout",
     "output_type": "stream",
     "text": [
      "Optimization terminated successfully.\n",
      "         Current function value: inf\n",
      "         Iterations 8\n",
      "                           Logit Regression Results                           \n",
      "==============================================================================\n",
      "Dep. Variable:                  Churn   No. Observations:                 4930\n",
      "Model:                          Logit   Df Residuals:                     4920\n",
      "Method:                           MLE   Df Model:                            9\n",
      "Date:                Fri, 09 Mar 2018   Pseudo R-squ.:                    -inf\n",
      "Time:                        23:07:34   Log-Likelihood:                   -inf\n",
      "converged:                       True   LL-Null:                   -9.4980e+05\n",
      "                                        LLR p-value:                     1.000\n",
      "===========================================================================================\n",
      "                              coef    std err          z      P>|z|      [0.025      0.975]\n",
      "-------------------------------------------------------------------------------------------\n",
      "Monthly Charges             0.0176      0.003      6.037      0.000       0.012       0.023\n",
      "SeniorCitizen               0.3194      0.098      3.261      0.001       0.127       0.511\n",
      "Tenure                     -0.0388      0.003    -15.425      0.000      -0.044      -0.034\n",
      "Total Charges            6.305e-05    2.1e-05      3.000      0.003    2.19e-05       0.000\n",
      "PhoneService               -1.0581      0.142     -7.476      0.000      -1.336      -0.781\n",
      "Fiber optic                 0.7867      0.145      5.413      0.000       0.502       1.072\n",
      "Month-to-month Contract    -0.8594      0.169     -5.086      0.000      -1.191      -0.528\n",
      "One Year Contract          -1.6450      0.210     -7.817      0.000      -2.057      -1.233\n",
      "Two Year Contract          -2.6330      0.274     -9.614      0.000      -3.170      -2.096\n",
      "Paperless Billing           0.4126      0.087      4.729      0.000       0.242       0.584\n",
      "===========================================================================================\n"
     ]
    },
    {
     "name": "stderr",
     "output_type": "stream",
     "text": [
      "C:\\Users\\Trang\\Anaconda3\\lib\\site-packages\\statsmodels\\discrete\\discrete_model.py:1214: RuntimeWarning:\n",
      "\n",
      "overflow encountered in exp\n",
      "\n",
      "C:\\Users\\Trang\\Anaconda3\\lib\\site-packages\\statsmodels\\discrete\\discrete_model.py:1264: RuntimeWarning:\n",
      "\n",
      "divide by zero encountered in log\n",
      "\n"
     ]
    }
   ],
   "source": [
    "logit_model=sm.Logit(y_train2,X_train2)\n",
    "fitted2=logit_model.fit()\n",
    "print(fitted2.summary())"
   ]
  },
  {
   "cell_type": "markdown",
   "metadata": {
    "collapsed": true
   },
   "source": [
    "Overall, Model 2 is a better fit since all variables have P-value less than alpha of 0.1. Besides, looking at the averages table, these dropped attributes means are not that much different when it come to Churn or no Churn."
   ]
  },
  {
   "cell_type": "code",
   "execution_count": 53,
   "metadata": {},
   "outputs": [
    {
     "data": {
      "text/plain": [
       "LogisticRegression(C=1.0, class_weight=None, dual=False, fit_intercept=True,\n",
       "          intercept_scaling=1, max_iter=100, multi_class='ovr', n_jobs=1,\n",
       "          penalty='l2', random_state=None, solver='liblinear', tol=0.0001,\n",
       "          verbose=0, warm_start=False)"
      ]
     },
     "execution_count": 53,
     "metadata": {},
     "output_type": "execute_result"
    }
   ],
   "source": [
    "logmodel.fit(X_test2,y_test2)"
   ]
  },
  {
   "cell_type": "code",
   "execution_count": 54,
   "metadata": {
    "collapsed": true
   },
   "outputs": [],
   "source": [
    "predictions2 = logmodel.predict(X_test2)"
   ]
  },
  {
   "cell_type": "markdown",
   "metadata": {},
   "source": [
    "##### Model Evaluation"
   ]
  },
  {
   "cell_type": "code",
   "execution_count": 55,
   "metadata": {
    "scrolled": false
   },
   "outputs": [
    {
     "name": "stdout",
     "output_type": "stream",
     "text": [
      "             precision    recall  f1-score   support\n",
      "\n",
      "          0       0.84      0.90      0.87      1546\n",
      "          1       0.66      0.53      0.59       567\n",
      "\n",
      "avg / total       0.79      0.80      0.79      2113\n",
      "\n"
     ]
    }
   ],
   "source": [
    "print(classification_report(y_test2,predictions2))"
   ]
  },
  {
   "cell_type": "code",
   "execution_count": 56,
   "metadata": {},
   "outputs": [
    {
     "name": "stdout",
     "output_type": "stream",
     "text": [
      "[[1390  156]\n",
      " [ 265  302]]\n"
     ]
    }
   ],
   "source": [
    "y_pred_class2 = logmodel.predict(X_test2)\n",
    "confusion2 = metrics.confusion_matrix(y_test2, y_pred_class2)\n",
    "print(confusion2)"
   ]
  },
  {
   "cell_type": "markdown",
   "metadata": {},
   "source": [
    "Intepreting the Evaluation:\n",
    "\n",
    "**Precision**: When a we predict that a customer will churn, the prediction is correct about 79% of the time.\n",
    "\n",
    "**Recall**: When a group of customer turn out to churn, we can predict 80% of that group.\n",
    "\n"
   ]
  },
  {
   "cell_type": "markdown",
   "metadata": {},
   "source": [
    "**True Positives (TP):** We correctly predict that they will churn: 302  \n",
    "\n",
    "**True Negative (TN):** We correctly predict that they won't churn: 1390\n",
    "\n",
    "**False Positives (FP):** We falsely predict that they will churn: 156  \n",
    "\n",
    "**False Negative (FN):** We falsely predict that they won't churn: 265\n"
   ]
  },
  {
   "cell_type": "code",
   "execution_count": 57,
   "metadata": {},
   "outputs": [
    {
     "data": {
      "image/png": "[encoded data removed]",
      "text/plain": [
       "<matplotlib.figure.Figure at 0x28fb839a0b8>"
      ]
     },
     "metadata": {},
     "output_type": "display_data"
    }
   ],
   "source": [
    "fpr, tpr,_=roc_curve(logmodel.predict(X_test2),y_test2,drop_intermediate=False)\n",
    "plt.figure()\n",
    "plt.plot(fpr, tpr, color='red', lw=2, label='ROC curve')\n",
    "plt.plot([0, 1], [0, 1], color='blue', lw=2, linestyle='--')\n",
    "plt.xlabel('FPR')\n",
    "plt.ylabel('TPR')\n",
    "plt.title('ROC curve')\n",
    "plt.show()"
   ]
  },
  {
   "cell_type": "code",
   "execution_count": 58,
   "metadata": {},
   "outputs": [
    {
     "data": {
      "text/plain": [
       "0.74963390018337972"
      ]
     },
     "execution_count": 58,
     "metadata": {},
     "output_type": "execute_result"
    }
   ],
   "source": [
    "roc_auc_score(logmodel.predict(X_test2),y_test2)"
   ]
  },
  {
   "cell_type": "markdown",
   "metadata": {},
   "source": [
    "For the Tele company, correctly predicting the churn variable will help the company allocate their customer services, customer incentives program, and advertisement resources better. For example, they will know who to target if they want to expand the market segment or to avoid churn. "
   ]
  },
  {
   "cell_type": "code",
   "execution_count": null,
   "metadata": {
    "collapsed": true
   },
   "outputs": [],
   "source": []
  }
 ],
 "metadata": {
  "kernelspec": {
   "display_name": "Python 3",
   "language": "python",
   "name": "python3"
  },
  "language_info": {
   "codemirror_mode": {
    "name": "ipython",
    "version": 3
   },
   "file_extension": ".py",
   "mimetype": "text/x-python",
   "name": "python",
   "nbconvert_exporter": "python",
   "pygments_lexer": "ipython3",
   "version": "3.6.3"
  }
 },
 "nbformat": 4,
 "nbformat_minor": 2
}
